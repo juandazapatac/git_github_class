{
  "cells": [
    {
      "cell_type": "markdown",
      "metadata": {
        "id": "g3ZUohYbsjsh"
      },
      "source": [
        "# **Introducción**\n",
        "\n",
        "\n",
        "---\n",
        "\n"
      ]
    },
    {
      "cell_type": "markdown",
      "metadata": {
        "id": "OkcyFVNvsr8R"
      },
      "source": [
        "Git es un sistema de control de versiones, una base de datos de cambios 🤖.\n",
        "\n",
        "Para iniciar en tu carpeta un sistema de control de versiones:"
      ]
    },
    {
      "cell_type": "code",
      "execution_count": null,
      "metadata": {
        "id": "FtONfCDHuSvg"
      },
      "outputs": [],
      "source": [
        "git init\n",
        "\n",
        "# Crea un espacio en la RAM llamado \"Staging\" y la carpeta .git"
      ]
    },
    {
      "cell_type": "markdown",
      "metadata": {
        "id": "SoGrwXVRKkdi"
      },
      "source": [
        "Y cada vez que queramos conocer el estado general de nuestro proyecto en relación al sistema de control de versiones:"
      ]
    },
    {
      "cell_type": "code",
      "execution_count": null,
      "metadata": {
        "id": "VLNg3UPVKqwG"
      },
      "outputs": [],
      "source": [
        "git status"
      ]
    },
    {
      "cell_type": "markdown",
      "metadata": {
        "id": "yew1n4ZFKtFx"
      },
      "source": [
        "Una vez hayamos realizado nuestros primeros cambios es hora de mover nuestros archivos a una zona llamada \"Stage\", esto lo hacemos con:"
      ]
    },
    {
      "cell_type": "code",
      "execution_count": null,
      "metadata": {
        "id": "UVWbklQnLR3q"
      },
      "outputs": [],
      "source": [
        "git add archivo.txt\n",
        "\n",
        "# Para agregar toda nuestra carpeta usamos:\n",
        "git add ."
      ]
    },
    {
      "cell_type": "markdown",
      "metadata": {
        "id": "tTOEAObFLZVx"
      },
      "source": [
        "Si por alguna razón quisieramos devolver el paso anterior y sacar nuestros archivos del \"Stage\":"
      ]
    },
    {
      "cell_type": "code",
      "execution_count": null,
      "metadata": {
        "id": "BSUxycj7LiUI"
      },
      "outputs": [],
      "source": [
        "git rm --cached archivo.txt"
      ]
    },
    {
      "cell_type": "markdown",
      "metadata": {
        "id": "kveMH1i7OTYv"
      },
      "source": [
        "Una vez queramos guardar los cambios debemos hacer un commit:"
      ]
    },
    {
      "cell_type": "code",
      "execution_count": null,
      "metadata": {
        "id": "pftRxI5COatr"
      },
      "outputs": [],
      "source": [
        "git commit -m \"Este es nuestro primer commit\" #Es una muy buena práctica dejar un mensaje para entender los cambios realizados"
      ]
    },
    {
      "cell_type": "markdown",
      "metadata": {
        "id": "IC57TaMjOkwK"
      },
      "source": [
        "Además podemos entender la historia de los commits realizados en un archivo con:"
      ]
    },
    {
      "cell_type": "code",
      "execution_count": null,
      "metadata": {
        "id": "fR4umxkfOr7W"
      },
      "outputs": [],
      "source": [
        "git log archivo.txt\n",
        "\n",
        "# log nos sirve además para ver los tags de cada commit\n",
        "# --stat para ver los cambios hechos por archivo"
      ]
    },
    {
      "cell_type": "markdown",
      "metadata": {
        "id": "HSj306vKp7Yd"
      },
      "source": [
        "Más adelante necesitaremos mirar la configuración de nuestro git, esto lo hago de la siguiente manera:"
      ]
    },
    {
      "cell_type": "code",
      "execution_count": null,
      "metadata": {
        "id": "MQNfGvYusaVF"
      },
      "outputs": [],
      "source": [
        "git config -l"
      ]
    },
    {
      "cell_type": "markdown",
      "metadata": {
        "id": "KhgnThH_mOeu"
      },
      "source": [
        "*GitHub es un sitio web, Git es un sistema*"
      ]
    },
    {
      "cell_type": "markdown",
      "metadata": {
        "id": "v1PHFl3BQdXy"
      },
      "source": [
        "# **Basics**\n",
        "\n",
        "\n",
        "\n",
        "---\n",
        "\n"
      ]
    },
    {
      "cell_type": "markdown",
      "metadata": {
        "id": "6v8XAsKEUYm7"
      },
      "source": [
        "**Show y Diff**\n",
        "\n",
        "\n",
        "---\n",
        "\n",
        "\n",
        "\n",
        "Ahora, algunos comandos que nos ayudarán a entender los cambios realizados a nuestros archivos.\n",
        "\n",
        "El siguiente comando te mostrará la diferencia entre los últimos dos commits realizados."
      ]
    },
    {
      "cell_type": "code",
      "execution_count": null,
      "metadata": {
        "id": "O2st2dAHUytq"
      },
      "outputs": [],
      "source": [
        "git show archivo.txt"
      ]
    },
    {
      "cell_type": "markdown",
      "metadata": {
        "id": "fl4nH8x-HBvf"
      },
      "source": [
        "Mientras que *diff* te mostrará la diferencia entre tu entorno local actual el último commit realizado:"
      ]
    },
    {
      "cell_type": "code",
      "execution_count": null,
      "metadata": {
        "id": "995elF6YHH_e"
      },
      "outputs": [],
      "source": [
        "git diff"
      ]
    },
    {
      "cell_type": "markdown",
      "metadata": {
        "id": "yblbIbKEV__n"
      },
      "source": [
        "Si queremos ser más específicos y comparar dos commits en particular podemos utilizar el comando *diff* de la siguiente manera:"
      ]
    },
    {
      "cell_type": "code",
      "execution_count": null,
      "metadata": {
        "id": "IJocGjTqWHr2"
      },
      "outputs": [],
      "source": [
        "git diff commitID_A commitID_B"
      ]
    },
    {
      "cell_type": "markdown",
      "metadata": {
        "id": "izCgGNuwW8bW"
      },
      "source": [
        "\n",
        "**Espacios de git:**\n",
        "\n",
        "\n",
        "---\n",
        "\n",
        "\n",
        "\n",
        "Ahora un poquito de teoría, ¿Cuáles son las 3 zonas de trabajo en git?\n",
        "\n",
        "\n",
        "1. Working Directory\n",
        "2. Staging Area\n",
        "3. Git Repository\n",
        "\n",
        "**Estados de mis archivos:**\n",
        "\n",
        "\n",
        "---\n",
        "\n",
        "\n",
        "\n",
        "A su vez, es posible dividir el estado de nuestros archivos en 4:\n",
        "\n",
        "\n",
        "\n",
        "1.   Untracked: Desconocidos por git\n",
        "2.   Unstaged: Conocidos por git pero actualmente desactualizados\n",
        "3. Staged: En staging zone, listos para commit.\n",
        "4. Tracked: Todo al día, no hay cambios pendientes.\n",
        "\n",
        "**Ramas:**\n",
        "\n",
        "\n",
        "---\n",
        "\n",
        "\n",
        "\n",
        "Al trabajar en git lo más común es tener distintas ramas de trabajo en nuestro proyecto.\n",
        "\n",
        "\n",
        "1.   La rama master indica donde vive nuestro código principal\n",
        "2.   La rama development (experimental) usada para probar cosas en nuestro código principal.\n",
        "3. La rama hotfix utilizada para hacer debugging de nuestro código principal\n",
        "\n",
        "\n",
        "Estas ramas pueden unirse a través del comando *merge*. Ojo conflictos pueden crearse."
      ]
    },
    {
      "cell_type": "markdown",
      "metadata": {
        "id": "yyU3ffcsb1Ml"
      },
      "source": [
        "**Reset y Checkout**\n",
        "\n",
        "\n",
        "---\n",
        "\n",
        "\n",
        "\n",
        "Reset es un comando altamente peligroso, nos lleva a una versión anterior eliminando todos los cambios posteriores realizados a esta. *Es volver al pasado sin posibilidad de volver al futuro*\n",
        "\n",
        "Hay dos tipos de reset, *hard* que elimina todo incluyendo lo que exista en el área de staging y *soft* que deja vivo aquello que exista en el área de staging."
      ]
    },
    {
      "cell_type": "code",
      "execution_count": null,
      "metadata": {
        "id": "6jthoEhzcYB9"
      },
      "outputs": [],
      "source": [
        "git reset commitID --hard # o --soft"
      ]
    },
    {
      "cell_type": "markdown",
      "metadata": {
        "id": "UiOHzWXEcgAC"
      },
      "source": [
        "Por otro lado, checkout funciona más como una cámara que viaja por el tiempo, nos permite ver versiones anteriores de un archivo (O del repositorio entero)"
      ]
    },
    {
      "cell_type": "code",
      "execution_count": null,
      "metadata": {
        "id": "gIwc1WQYc1b3"
      },
      "outputs": [],
      "source": [
        "git checkout commitID archivo\n",
        "\n",
        "# y para volver al último commit hecho de la rama master:\n",
        "\n",
        "git checkout master archivo"
      ]
    },
    {
      "cell_type": "markdown",
      "metadata": {
        "id": "dM-GQH4Rh-ON"
      },
      "source": [
        "Cuando el checkout es utilizado sin mencionar un archivo, mueve literalmente el HEAD al commitID indicado."
      ]
    },
    {
      "cell_type": "markdown",
      "metadata": {
        "id": "GN0aRaekmRel"
      },
      "source": [
        "# **Branches**\n",
        "\n",
        "---\n",
        "\n"
      ]
    },
    {
      "cell_type": "markdown",
      "metadata": {
        "id": "-_UoRskGU37R"
      },
      "source": [
        "Utilizamos las ramas para desarrollar nuestro proyecto desde distintos frentes. Para crear una nueva rama, git crea una copia del último commit realizado.\n",
        "\n",
        "Crea tu primera rama así:"
      ]
    },
    {
      "cell_type": "code",
      "execution_count": null,
      "metadata": {
        "id": "WtcpahnFFsGa"
      },
      "outputs": [],
      "source": [
        "git branch nombre_rama"
      ]
    },
    {
      "cell_type": "markdown",
      "metadata": {
        "id": "xNwoJEuGF47p"
      },
      "source": [
        "Muévete entre ramas utilizando checkout:"
      ]
    },
    {
      "cell_type": "code",
      "execution_count": null,
      "metadata": {
        "id": "tquzT-gAF7vZ"
      },
      "outputs": [],
      "source": [
        "git checkout nombre_rama\n",
        "\n",
        "# Puedes perder tus cambios si realizas un checkout sin commitear"
      ]
    },
    {
      "cell_type": "markdown",
      "metadata": {
        "id": "RMA_TQhZ0jSV"
      },
      "source": [
        "Si te pierdes un poco y deseas conocer qué ramas tiene el proyecto:"
      ]
    },
    {
      "cell_type": "code",
      "execution_count": null,
      "metadata": {
        "id": "BZ_1KfX40oX1"
      },
      "outputs": [],
      "source": [
        "git branch"
      ]
    },
    {
      "cell_type": "markdown",
      "metadata": {
        "id": "Bk3WW23NcehK"
      },
      "source": [
        "Y si deseas eliminar una rama:"
      ]
    },
    {
      "cell_type": "code",
      "execution_count": null,
      "metadata": {
        "id": "fqLHTG9ycgYy"
      },
      "outputs": [],
      "source": [
        "git branch -d nombre_rama"
      ]
    },
    {
      "cell_type": "markdown",
      "metadata": {
        "id": "TX4qBC1SVIoj"
      },
      "source": [
        "Si deseas conocer tus ramas remotas:"
      ]
    },
    {
      "cell_type": "code",
      "execution_count": null,
      "metadata": {
        "id": "rceGqa_kVK_j"
      },
      "outputs": [],
      "source": [
        "git branch -r"
      ]
    },
    {
      "cell_type": "markdown",
      "metadata": {
        "id": "NQbgxwok0tpc"
      },
      "source": [
        "**Merge**\n",
        "\n",
        "\n",
        "---\n",
        "\n",
        "Una vez queramos unir el trabajo que venimos realizando en dos ramas diferentes vamos a realizar un merge. Así unimos los dos últimos commits de ambas ramas."
      ]
    },
    {
      "cell_type": "code",
      "execution_count": null,
      "metadata": {
        "id": "BCq3e31l1Igl"
      },
      "outputs": [],
      "source": [
        "git merge nombre_rama"
      ]
    },
    {
      "cell_type": "markdown",
      "metadata": {
        "id": "SKzxzVmW1OBO"
      },
      "source": [
        "Debemos realizar el merge desde la rama que queremos seguir manteniendo.\n",
        "\n",
        "Al momento de hacer un merge es posible que aparezcan conflictos, debemos resolverlos y completar el merge con un commit.\n",
        "\n",
        "*La extensión Git Graph de VSC te puede ayudar a visualizar mejor las ramas de Git.*"
      ]
    },
    {
      "cell_type": "markdown",
      "metadata": {
        "id": "90g0Q3V3BlsZ"
      },
      "source": [
        "**Alias y branches**\n",
        "\n",
        "\n",
        "---\n",
        "\n",
        "Para visualizar de mejor manera nuestras ramas y sus commits:"
      ]
    },
    {
      "cell_type": "code",
      "execution_count": null,
      "metadata": {
        "id": "OIyR_QoGBzgt"
      },
      "outputs": [],
      "source": [
        "git log --all # Nos muestra literalmente todo lo que hemos hecho\n",
        "\n",
        "git log --all --graph #Agrega un gráfico a la vista\n",
        "\n",
        "git log --all --graph --decorate --oneline #El comando definitivo"
      ]
    },
    {
      "cell_type": "markdown",
      "metadata": {
        "id": "Us7mbh5gxQPv"
      },
      "source": [
        "A continuación un superlog:"
      ]
    },
    {
      "cell_type": "code",
      "execution_count": null,
      "metadata": {
        "id": "bxM7WHIMxS5u"
      },
      "outputs": [],
      "source": [
        "git log --graph --abbrev-commit --decorate --date=relative --format=format:'%C(bold blue)%h%C(reset) - %C(bold green)(%ar)%C(reset) %C(white)%s%C(reset) %C(dim white)- %an%C(reset)%C(bold yellow)%d%C(reset)' --all"
      ]
    },
    {
      "cell_type": "markdown",
      "metadata": {
        "id": "fyzIxTQ_F1Vw"
      },
      "source": [
        "# **GitHub**\n",
        "\n",
        "\n",
        "---\n",
        "\n",
        "\n"
      ]
    },
    {
      "cell_type": "markdown",
      "metadata": {
        "id": "RF_zOVjpB-aE"
      },
      "source": [
        "Recuerda que cada vez que crees un repositorio es una muy buena práctica crear un archivo README.md en la raíz de tu proyecto.\n",
        "\n",
        "\n",
        "**Agregar un origen**\n",
        "\n",
        "\n",
        "---\n",
        "\n",
        "Después de configurar correctamente nuestras llaves SSH entre Git y GitHub, y después de crear nuestro repositorio en este último, debemos indicarle a Git que vamos a agregar un origen remoto."
      ]
    },
    {
      "cell_type": "code",
      "execution_count": null,
      "metadata": {
        "id": "mpGXxtRVtDkl"
      },
      "outputs": [],
      "source": [
        "git remote add origin dirección_https_o_ssh\n",
        "\n",
        "# origin es un nombre usado por defecto para nuestro origen remoto"
      ]
    },
    {
      "cell_type": "markdown",
      "metadata": {
        "id": "Xzaw4VcAtTf3"
      },
      "source": [
        "Podemos ver los origenes que hemos creado con:"
      ]
    },
    {
      "cell_type": "code",
      "execution_count": null,
      "metadata": {
        "id": "JS6G8HuZtWqV"
      },
      "outputs": [],
      "source": [
        "git remote\n",
        "\n",
        "#Para que sea verbal:\n",
        "git remote -v"
      ]
    },
    {
      "cell_type": "markdown",
      "metadata": {
        "id": "LkRVhm2ot_vF"
      },
      "source": [
        "**De master a main**\n",
        "\n",
        "\n",
        "---\n",
        "\n",
        "Para cambiar el nombre de tu rama principal de *master* a *main* en tu Git ingresa el siguiente comando:\n"
      ]
    },
    {
      "cell_type": "code",
      "execution_count": null,
      "metadata": {
        "id": "AZkx4tGquSwu"
      },
      "outputs": [],
      "source": [
        "git branch -m main"
      ]
    },
    {
      "cell_type": "markdown",
      "metadata": {
        "id": "ukMoAvrXwDKd"
      },
      "source": [
        "**Pull**\n",
        "\n",
        "\n",
        "---\n",
        "\n",
        "Antes de hacer tu primer push debes hacer tu primer pull, y a su vez para esta primera clonación deberás usar el siguiente comando:"
      ]
    },
    {
      "cell_type": "code",
      "execution_count": null,
      "metadata": {
        "id": "aF0PoHKUwRu3"
      },
      "outputs": [],
      "source": [
        "git pull origin master --allow-unrelated-histories"
      ]
    },
    {
      "cell_type": "markdown",
      "metadata": {
        "id": "wOkUOge65crC"
      },
      "source": [
        "Puede ser que necesitemos actualizar nuestro origen de HTTPS a SSH. Esto lo haces así:"
      ]
    },
    {
      "cell_type": "code",
      "execution_count": null,
      "metadata": {
        "id": "CUXwOz-n5y6K"
      },
      "outputs": [],
      "source": [
        "git remote set-url origin git@github.com:USERNAME/REPONAME.git"
      ]
    },
    {
      "cell_type": "markdown",
      "metadata": {
        "id": "NsOfG97ZDKQg"
      },
      "source": [
        "**Tags**\n",
        "\n",
        "\n",
        "---\n",
        "\n",
        "Los tags o etiquetas son utilizados para crear una referencia específica a un momento importante del proyecto, por ejemplo, a una versión del mismo. La notación más usada es v0.1\n",
        "\n",
        "Para crear un tag en Git debes escribir:"
      ]
    },
    {
      "cell_type": "code",
      "execution_count": null,
      "metadata": {
        "id": "dN9YNwv7wiwg"
      },
      "outputs": [],
      "source": [
        "git tag -a nombre_tag -m \"Aquí un mensaje relacionado a tu tag\" commitID"
      ]
    },
    {
      "cell_type": "markdown",
      "metadata": {
        "id": "GAkUsHbPxxzf"
      },
      "source": [
        "Para ver tu lista de tags:"
      ]
    },
    {
      "cell_type": "code",
      "execution_count": null,
      "metadata": {
        "id": "7HxGpO09x2BX"
      },
      "outputs": [],
      "source": [
        "git tag"
      ]
    },
    {
      "cell_type": "markdown",
      "metadata": {
        "id": "oG96BTJmyo1X"
      },
      "source": [
        "Debemos enviar nuestros tags a GitHub porque allí es donde cobran importancia. Esto lo hacemos de la siguiente manera:"
      ]
    },
    {
      "cell_type": "code",
      "execution_count": null,
      "metadata": {
        "id": "Yz37xT3Jy-xd"
      },
      "outputs": [],
      "source": [
        "git push origin --tags"
      ]
    },
    {
      "cell_type": "markdown",
      "metadata": {
        "id": "iX1vbGhsz_BO"
      },
      "source": [
        "Para eliminar un tag de Git:"
      ]
    },
    {
      "cell_type": "code",
      "execution_count": null,
      "metadata": {
        "id": "7ry793750CQu"
      },
      "outputs": [],
      "source": [
        "git tag -d nombre_tag"
      ]
    },
    {
      "cell_type": "markdown",
      "metadata": {
        "id": "R-dd0ny93-wZ"
      },
      "source": [
        "**Otras ramas en GitHub**\n",
        "\n",
        "\n",
        "---\n",
        "\n",
        "Para enviar otras ramas a nuestro GitHub simplemente debemos movernos con *checkout* a la rama que deseemos enviar desde nuestro Git y realizar un push."
      ]
    },
    {
      "cell_type": "markdown",
      "metadata": {
        "id": "Iwa21yLABdLX"
      },
      "source": [
        "**Clonar**\n",
        "\n",
        "\n",
        "---\n",
        "\n",
        "Cuando un repositorio es público podemos clonarlo de la siguiente manera a nuestro entorno local:\n"
      ]
    },
    {
      "cell_type": "code",
      "execution_count": null,
      "metadata": {
        "id": "htCZZ_pQBjXG"
      },
      "outputs": [],
      "source": [
        "git clone url_https_o_ssh # Ojalá SSH"
      ]
    },
    {
      "cell_type": "markdown",
      "metadata": {
        "id": "8Qt0LdYAlROc"
      },
      "source": [
        "Sin embargo, para hacer un push, crear ramas, etc. necesitamos el permiso de collaborator."
      ]
    },
    {
      "cell_type": "markdown",
      "metadata": {
        "id": "e9ZYdcI-BngO"
      },
      "source": [
        "# **Workflow**\n",
        "\n",
        "\n",
        "---\n"
      ]
    },
    {
      "cell_type": "markdown",
      "metadata": {
        "id": "xQ15Q5vAUxSO"
      },
      "source": [
        "**Buenas prácticas:**\n",
        "\n",
        "---\n",
        "\n",
        "1.   Al main solo envíamos aquello que estamos seguros que está listo para producción. Los merge a main deberían ser realizados únicamente por el jefe del proyecto.\n",
        "2.   Es posible que aparezcan problemas al trabajar con archivos binarios en Git y GitHub ya que estos no están diseñados para manipular este tipo de archivos. Es una mala práctica guardar archivos binarios en un repositorio. LOS BINARIOS NO DEBERÍAN IR EN LOS REPOS.\n",
        "3. El constante uso de *git status* y *git pull* es una excelente práctica. SIEMPRE PULL ANTES DE PUSH.\n",
        "4. Siempre que desee realizar cambios en mi main debo crear una nueva branch para desarrollarlos.\n",
        "5. Es inteligente inspirarte en las prácticas usadas en algunos proyectos Open Source, aquí algunos de ellos:\n",
        "\n",
        "\n",
        "  *   Laravel\n",
        "  *   Ghost\n",
        "  *   Arduino\n",
        "\n",
        "\n",
        "\n",
        "\n",
        "\n",
        "\n",
        "**Pull Request**\n",
        "\n",
        "\n",
        "---\n",
        "\n",
        "\n",
        "\n",
        "Característica exclusiva de GitHub que permite que cambios realizados en ramas secundarias sean revisados por distintos miembros del equipo antes de realizar un merge a la rama principal (main).\n",
        "\n",
        "Es importante realizar un pull request tanto para enviar nuestros cambios a la copia que tenemos de main en nuestro servidor de pruebas como a la rama main original que está en el servidor de producción.\n",
        "\n",
        "La rama main suele estar bloqueada y solo es posible hacer un merge desde ella a través de un pull request."
      ]
    },
    {
      "cell_type": "markdown",
      "metadata": {
        "id": "YFYGe6i6Weq5"
      },
      "source": [
        "*Un Pull Request es una conversación alrededor de la decisión de realizar un merge. Se realiza code review, se discuten los posibles cambios, se solicitan revisiones y se toma una decisión final.*"
      ]
    },
    {
      "cell_type": "markdown",
      "metadata": {
        "id": "VC6NwkoAqT7d"
      },
      "source": [
        "**Forks**\n",
        "\n",
        "\n",
        "---\n",
        "\n",
        "La creación de un Fork consiste en clonar un repositorio de otro usuario de GitHub a mis propios repositorios del sitio web. Puedo posteriormente clonar este repositorio a mi entorno local\n",
        "\n",
        "Si, por ejemplo, hemos hecho lo anterior para contribuir a un proyecto Open Source entonces luego podemos crear un pull request entre ambos repositorios.\n",
        "\n",
        "**Existen dos formas de mantenernos conectados y actualizados respecto al proyecto Open Source:**\n",
        "\n",
        "\n",
        "\n",
        "1.   Pull request directamente en nuestro GitHub desde el proyecto Open Source.\n",
        "2.   Desde consola, crear un segundo remote llamado \"upstream\" en nuestro entorno local, luego realizar push a nuestro GitHub.\n",
        "\n",
        "La segunda opción es la más utilizada por profesionales.\n",
        "\n"
      ]
    },
    {
      "cell_type": "markdown",
      "metadata": {
        "id": "Qn5yb8OOe30h"
      },
      "source": [
        "**.gitignore**\n",
        "\n",
        "\n",
        "---\n",
        "\n",
        "Para evitar subir archivos binarios a nuestro repo o para evitar la subida de archivos privados como contraseñas aparece este archivo especial, ubicado en la raíz de nuestro repo, donde le indicaremos a git archivos a no tener en cuenta para el repositorio.\n",
        "\n",
        "En este archivo es posible usar wildcards.\n",
        "\n",
        "Es necesario entonces que las imágenes sean relacionadas de GitHub de alguna forma alternativa."
      ]
    },
    {
      "cell_type": "markdown",
      "metadata": {
        "id": "s8u-AZwguRa2"
      },
      "source": [
        "**README.md**\n",
        "\n",
        "\n",
        "---\n",
        "\n",
        "\n",
        "\n",
        "A través de este archivo podremos desarrollar una pequeña introducción a nuestro proyecto.\n",
        "\n",
        ".md responde a Mark Down y es un tipo de archivo con un lenguaje especial (No es un lenguaje de programación en sí mismo pero tampoco es un archivo de texto plano).\n",
        "\n",
        "Para construir nuestro archivo .md VSC tiene una opción especial o podemos utilizar:\n",
        "\n",
        "https://pandao.github.io/editor.md/en.html"
      ]
    },
    {
      "cell_type": "markdown",
      "metadata": {
        "id": "c85UKbd84gKA"
      },
      "source": [
        "**Rebase**\n",
        "\n",
        "\n",
        "---\n",
        "\n",
        "Técnica utilizada a nivel local (nunca a nivel de GitHub) para reorganizar y traslapar tus ramas. Es una técnica silenciosa, en muchos casos considerada una mala práctica, que evita el uso de merges para unir el trabajo de dos ramas."
      ]
    },
    {
      "cell_type": "markdown",
      "metadata": {
        "id": "TcL9RHWm99Sr"
      },
      "source": [
        "**Stash**\n",
        "\n",
        "\n",
        "---\n",
        "\n",
        "Herramienta muy útil que nos permite guardar en una especie de mini-contenedor los cambios que venimos realizando.\n",
        "\n",
        "Stash nos permite por ejemplo:\n",
        "\n",
        "1. Movernos a otra rama sin tener que hacer un commit en la rama en la que venimos trabajando:\n"
      ]
    },
    {
      "cell_type": "code",
      "execution_count": null,
      "metadata": {
        "id": "FEslW2Fx_Vzb"
      },
      "outputs": [],
      "source": [
        "#Antes de dejar nuestra rama de trabajo\n",
        "git stash\n",
        "\n",
        "#Al volver a nuestra rama de trabajo abrimos el stash así:\n",
        "git stash pop"
      ]
    },
    {
      "cell_type": "markdown",
      "metadata": {
        "id": "IBv4v0wz_jer"
      },
      "source": [
        "2. Volver al último commit de nuestra rama, dejando nuestros cambios en el stash:"
      ]
    },
    {
      "cell_type": "code",
      "execution_count": null,
      "metadata": {
        "id": "9PO4MgMG_sv1"
      },
      "outputs": [],
      "source": [
        "#Para volver al último commit de nuestra rama\n",
        "git stash\n",
        "\n",
        "#Para eliminar esos cambios que quedaron guardados en el stash\n",
        "git stash drop"
      ]
    },
    {
      "cell_type": "markdown",
      "metadata": {
        "id": "5gp9MVf8AjOf"
      },
      "source": [
        "3. Puedo utilizar los cambios que he venido realizando para crear una nueva rama:"
      ]
    },
    {
      "cell_type": "code",
      "execution_count": null,
      "metadata": {
        "id": "0poD4yZjED1q"
      },
      "outputs": [],
      "source": [
        "git stash\n",
        "\n",
        "git stash branch nombre_rama"
      ]
    },
    {
      "cell_type": "markdown",
      "metadata": {
        "id": "cd-xRXXlADPL"
      },
      "source": [
        "Para ver que cambios tengo guardados en este espacio temporal:"
      ]
    },
    {
      "cell_type": "code",
      "execution_count": null,
      "metadata": {
        "id": "SkwUFbjiAGn9"
      },
      "outputs": [],
      "source": [
        "git stash list"
      ]
    },
    {
      "cell_type": "markdown",
      "metadata": {
        "id": "V_MO2Bz4EcF4"
      },
      "source": [
        "**Cherry Pick**\n",
        "\n",
        "\n",
        "---\n",
        "\n",
        "\n",
        "MALA PRÁCTICA. Esta herramienta te permite robar commits de otra rama a tu rama actual, es útil si solo requieres una parte de los cambios que se han realizado en otra rama."
      ]
    },
    {
      "cell_type": "code",
      "execution_count": null,
      "metadata": {
        "id": "YFsgvhPRIX_W"
      },
      "outputs": [],
      "source": [
        "git cherry-pick commitID"
      ]
    },
    {
      "cell_type": "markdown",
      "metadata": {
        "id": "D0NEvtKaIwQn"
      },
      "source": [
        "# **Emergencias**\n",
        "\n",
        "\n",
        "---\n",
        "\n"
      ]
    },
    {
      "cell_type": "markdown",
      "metadata": {
        "id": "E9JISMevI5E8"
      },
      "source": [
        "**Git reflog & Git reset**\n",
        "\n",
        "***Git nunca olvida***\n",
        "\n",
        "\n",
        "---\n",
        "\n",
        "Combinación que nos puede ayudar a corregir errores graves en nuestro trabajo, cuando todo se ha roto."
      ]
    },
    {
      "cell_type": "code",
      "execution_count": null,
      "metadata": {
        "id": "uaAQFxiFPGVf"
      },
      "outputs": [],
      "source": [
        "git reflog\n",
        "\n",
        "'''Es el papá de git log. Git nunca olvida y con git reflog puedes entender porqué.\n",
        "Puedes observar absolutamente todo con git reflog'''"
      ]
    },
    {
      "cell_type": "code",
      "execution_count": null,
      "metadata": {
        "id": "wvRpNAFwPsnx"
      },
      "outputs": [],
      "source": [
        "git reset --hard commitID\n",
        "\n",
        "'''Este comando te envía atrás en el tiempo a un commit determinado, eliminando todo lo que se ha hecho\n",
        " después de este commit'''"
      ]
    },
    {
      "cell_type": "markdown",
      "metadata": {
        "id": "xmVKZZUrIEg-"
      },
      "source": [
        "**Git Amend**\n",
        "\n",
        "---\n",
        "¿Hiciste un commit y olvidaste agregar algo a tus cambios? no hay de que preocuparse, a través de git ammend puedes \"enmendar\" tu último commit realizado.\n",
        "\n",
        "Corrige tu código, **agrega tus cambios a staging** y lleva a cabo el siguiente comando:"
      ]
    },
    {
      "cell_type": "code",
      "execution_count": null,
      "metadata": {
        "id": "pC5WN8E1NicU"
      },
      "outputs": [],
      "source": [
        "git commit --amend"
      ]
    }
  ],
  "metadata": {
    "colab": {
      "provenance": []
    },
    "kernelspec": {
      "display_name": "Python 3",
      "name": "python3"
    },
    "language_info": {
      "name": "python"
    }
  },
  "nbformat": 4,
  "nbformat_minor": 0
}
